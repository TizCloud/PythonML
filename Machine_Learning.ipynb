{
  "nbformat": 4,
  "nbformat_minor": 0,
  "metadata": {
    "colab": {
      "provenance": []
    },
    "kernelspec": {
      "name": "python3",
      "display_name": "Python 3"
    },
    "language_info": {
      "name": "python"
    }
  },
  "cells": [
    {
      "cell_type": "markdown",
      "source": [
        "**Module 01: Introduction to Machine Learning**"
      ],
      "metadata": {
        "id": "R_thtNBJYu5z"
      }
    },
    {
      "cell_type": "markdown",
      "source": [
        "List"
      ],
      "metadata": {
        "id": "v6lJ8FMh5t__"
      }
    },
    {
      "cell_type": "code",
      "source": [
        "mylst = [10, 20, 30, 40, 'Python', 50, 'Java']\n",
        "print(mylst)\n",
        "print(type(mylst))"
      ],
      "metadata": {
        "id": "RXDvUT7FhcNl"
      },
      "execution_count": null,
      "outputs": []
    },
    {
      "cell_type": "code",
      "source": [
        "mylist1 = []   #Empty List\n",
        "mylist2 = [10, 20, 30, 40, 50]\n",
        "mylist3 = ['Thailand', 'Singapore', 'Malaysia', 'Vietnam']\n",
        "mylist4 = ['Python', 'Java', 1994, 1996]\n",
        "mylist5 = ['Name', 'Surname', 300, 0.5, mylist2]\n",
        "\n",
        "print(mylist1)\n",
        "print(mylist2)\n",
        "print(mylist3)\n",
        "print(mylist4)\n",
        "print(mylist5)"
      ],
      "metadata": {
        "id": "9EZqibaS5smH"
      },
      "execution_count": null,
      "outputs": []
    },
    {
      "cell_type": "code",
      "source": [
        "mylist1 = ['Thailand', 'Vietnam', 2017, 2021]\n",
        "mylist2 = [10, 20, 30, 40, 50, 60, 70, 80]\n",
        "\n",
        "print(\"mylist1[0] : \", mylist1[0])\n",
        "print(\"mylist1[-1] : \", mylist1[-1])\n",
        "print(\"mylist2[3] : \", mylist2[3])\n",
        "print(\"mylist2[-5] : \", mylist2[-5])\n",
        "print(\"mylist2[1:5] : \", mylist2[1:5])\n",
        "print(\"mylist2[::2] : \", mylist2[::2])\n",
        "print(\"mylist2[2::2] : \", mylist2[2::2])\n",
        "print(\"mylist2[2:8:2] : \", mylist2[2:8:2])\n",
        "print(\"mylist2[:8] : \", mylist2[:8])\n",
        "print(\"mylist2[5:] : \", mylist2[5:])"
      ],
      "metadata": {
        "id": "0GqqVX5A54un"
      },
      "execution_count": null,
      "outputs": []
    },
    {
      "cell_type": "code",
      "source": [
        "myList1 = ['Thailand', 'Vietnam', 2017, 2021]\n",
        "print(\"Old Value : \", myList1[2])\n",
        "\n",
        "myList1[2] = 2023\n",
        "print(\"New Value : \", myList1[2])\n",
        "\n",
        "print('----------------------------------------')\n",
        "\n",
        "myList2 = ['Python', 'Java', 1994, 1996]\n",
        "print(\"Before Deleting : \", myList2)\n",
        "\n",
        "del myList2[2]\n",
        "print(\"After Deleting : \", myList2)"
      ],
      "metadata": {
        "id": "xGZapRJE5-i8"
      },
      "execution_count": null,
      "outputs": []
    },
    {
      "cell_type": "code",
      "source": [
        "print(myList2)\n",
        "\n",
        "myList2.insert (2, 1996)\n",
        "myList2.insert (2, 2000)\n",
        "\n",
        "print(myList2)"
      ],
      "metadata": {
        "id": "TjoXVVdF6KZR"
      },
      "execution_count": null,
      "outputs": []
    },
    {
      "cell_type": "markdown",
      "source": [
        "Tuple"
      ],
      "metadata": {
        "id": "TSdMkdcM6a-N"
      }
    },
    {
      "cell_type": "code",
      "source": [
        "mytup1 = (100, 50.75)\n",
        "mytup2 = ('Python', 'Java')\n",
        "mytup3 = (30, 15.5, 'Thailand', 'Malaysia')\n",
        "mytup4 = (mytup1, mytup2, mytup3)\n",
        "mytup5 = mytup1 + mytup2\n",
        "mytup6 = ()\n",
        "\n",
        "print('Result of mytup1 : ', mytup1)\n",
        "print('Result of mytup2 : ', mytup2)\n",
        "print('Result of mytup3 : ', mytup3)\n",
        "print('Result of mytup4 : ', mytup4)\n",
        "print('Result of mytup5 : ', mytup5)\n",
        "print('Result of mytup6 : ', mytup6)"
      ],
      "metadata": {
        "id": "e8YoKzBP6cvU"
      },
      "execution_count": null,
      "outputs": []
    },
    {
      "cell_type": "code",
      "source": [
        "mytup = ((\"Name\", \"Sunisa\"), (\"Age\", 38), (\"Gender\", \"Female\"))\n",
        "\n",
        "print(mytup[0])\n",
        "print(mytup[1])\n",
        "print(mytup[2])"
      ],
      "metadata": {
        "id": "KyHHD4QY6rWL"
      },
      "execution_count": null,
      "outputs": []
    },
    {
      "cell_type": "code",
      "source": [
        "mytup = (100, 35.75)\n",
        "mytup[0] = 120\n",
        "mytup[1] = 150.55\n",
        "print(mytup)"
      ],
      "metadata": {
        "id": "h5nsKCKU6wHc"
      },
      "execution_count": null,
      "outputs": []
    },
    {
      "cell_type": "code",
      "source": [
        "mytup = (\"Korea\", \"Thailand\", 2002, 2022 )\n",
        "\n",
        "print(mytup)\n",
        "print(mytup[0])\n",
        "print(mytup[1])\n",
        "print(mytup[2])\n",
        "print(mytup[3])\n",
        "\n",
        "del mytup[2]\n",
        "print(\"After mytup[2] Deleted : \", mytup)"
      ],
      "metadata": {
        "id": "2HMJ99VJ60xN"
      },
      "execution_count": null,
      "outputs": []
    },
    {
      "cell_type": "code",
      "source": [
        "mytup1 = ('Napoli', 'Lazio', 750, 600)\n",
        "mytup2 = (10, 20, 30, 40, 50, 60, 70)\n",
        "\n",
        "print(\"mytup1[0] : \", mytup1[0])\n",
        "print(\"mytup1[-1] : \", mytup1[-1])\n",
        "print(\"mytup2[5] : \", mytup2[5])\n",
        "print(\"mytup2[-3] : \", mytup2[-3])\n",
        "print(\"mytup2[1:5] : \", mytup2[1:5])\n",
        "print(\"mytup2[::2] : \", mytup2[::2])"
      ],
      "metadata": {
        "id": "0Fxm1Znw67Cl"
      },
      "execution_count": null,
      "outputs": []
    },
    {
      "cell_type": "markdown",
      "source": [
        "Dictionary"
      ],
      "metadata": {
        "id": "EI-nBRjR7DVV"
      }
    },
    {
      "cell_type": "code",
      "source": [
        "mydict1 = {}\n",
        "mydict2 = {'Arsenal' : '75', 'Man City' : '70', 'Liverpool' : '74'}\n",
        "mydict3 = {'Aston Villa' : 69}\n",
        "mydict4 = {'Thailand' : 7, 2022: 15}\n",
        "\n",
        "print(mydict1)\n",
        "print(mydict2)\n",
        "print(mydict3)\n",
        "print(mydict4)\n",
        "\n",
        "print(mydict2['Arsenal'])"
      ],
      "metadata": {
        "id": "ELAaFmLK7QCK"
      },
      "execution_count": null,
      "outputs": []
    },
    {
      "cell_type": "code",
      "source": [
        "mydict = {'Name': 'Jame Wilson', 'Age' : 35, 'class' : 'First'}\n",
        "print(\"Original Dictionary :\", mydict )\n",
        "\n",
        "del mydict['class']\n",
        "print(\"After Removed : \", mydict)"
      ],
      "metadata": {
        "id": "78X8kkxz7aX0"
      },
      "execution_count": null,
      "outputs": []
    },
    {
      "cell_type": "code",
      "source": [
        "mydict.clear()\n",
        "print(\"After Cleared : \", mydict)"
      ],
      "metadata": {
        "id": "4LAsocaC7xqd"
      },
      "execution_count": null,
      "outputs": []
    },
    {
      "cell_type": "code",
      "source": [
        "del mydict\n",
        "print(\"After Deleted : \", mydict)"
      ],
      "metadata": {
        "id": "tzX_mxol71tz"
      },
      "execution_count": null,
      "outputs": []
    },
    {
      "cell_type": "code",
      "source": [
        "mydict = {1:\"Python\", 2:\"Java\", 3:\"SQL\", 4:\"R\"}\n",
        "\n",
        "for i in mydict:\n",
        "  print(mydict[i])"
      ],
      "metadata": {
        "id": "-WsnpxWV79we"
      },
      "execution_count": null,
      "outputs": []
    },
    {
      "cell_type": "markdown",
      "source": [
        "DataFrame"
      ],
      "metadata": {
        "id": "jfrO5A008U6Y"
      }
    },
    {
      "cell_type": "code",
      "source": [
        "data = {'state': ['Ohio', 'Ohio', 'Ohio', 'Nevada', 'Nevada', 'Nevada'],\n",
        "        'year': [2000, 2001, 2002, 2001, 2002, 2003],\n",
        "        'pop': [1.5, 1.7, 3.6, 2.4, 2.9, 3.2]}\n",
        "\n",
        "frame = pd.DataFrame(data)\n",
        "frame"
      ],
      "metadata": {
        "id": "xt-yxt368Wbv"
      },
      "execution_count": null,
      "outputs": []
    },
    {
      "cell_type": "code",
      "source": [
        "frame.head(3)"
      ],
      "metadata": {
        "id": "Zt3kNy818bY0"
      },
      "execution_count": null,
      "outputs": []
    },
    {
      "cell_type": "markdown",
      "source": [
        "Data Loading, Storage and File Formats"
      ],
      "metadata": {
        "id": "qtHbhBCG82kI"
      }
    },
    {
      "cell_type": "code",
      "source": [
        "from google.colab import drive\n",
        "drive.mount('/content/drive/')"
      ],
      "metadata": {
        "id": "HdBEedTT8h29"
      },
      "execution_count": null,
      "outputs": []
    },
    {
      "cell_type": "code",
      "source": [
        "import pandas as pd\n",
        "\n",
        "df = pd.read_csv('/content/drive/My Drive/sampledata/ex1.csv')\n",
        "df"
      ],
      "metadata": {
        "id": "46AIbfyR892M"
      },
      "execution_count": null,
      "outputs": []
    },
    {
      "cell_type": "code",
      "source": [
        "df = pd.read_table('/content/drive/My Drive/sampledata/ex1.csv', sep=',')\n",
        "df"
      ],
      "metadata": {
        "id": "sHSqfiwX96Vq"
      },
      "execution_count": null,
      "outputs": []
    },
    {
      "cell_type": "code",
      "source": [
        "pd.read_csv('/content/drive/My Drive/sampledata/ex2.csv', header=None)"
      ],
      "metadata": {
        "id": "fjzJ41M6-KHn"
      },
      "execution_count": null,
      "outputs": []
    },
    {
      "cell_type": "code",
      "source": [
        "names = ['a', 'b', 'c', 'd', 'message']\n",
        "pd.read_csv('/content/drive/My Drive/sampledata/ex2.csv', names=names, index_col='message')"
      ],
      "metadata": {
        "id": "uXtkq35U-4GL"
      },
      "execution_count": null,
      "outputs": []
    },
    {
      "cell_type": "code",
      "source": [
        "list(open('/content/drive/My Drive/sampledata/ex3.txt'))"
      ],
      "metadata": {
        "id": "7E2OVN0X_K7z"
      },
      "execution_count": null,
      "outputs": []
    },
    {
      "cell_type": "code",
      "source": [
        "result = pd.read_table('/content/drive/My Drive/sampledata/ex3.txt', sep='\\s+')\n",
        "result"
      ],
      "metadata": {
        "id": "I2YpCHraAFlb"
      },
      "execution_count": null,
      "outputs": []
    },
    {
      "cell_type": "code",
      "source": [
        "pd.read_csv('/content/drive/My Drive/sampledata/ex4.csv', skiprows=[0, 2, 3])"
      ],
      "metadata": {
        "id": "219gKHnjANXm"
      },
      "execution_count": null,
      "outputs": []
    },
    {
      "cell_type": "code",
      "source": [
        "result = pd.read_csv('/content/drive/My Drive/sampledata/ex5.csv')\n",
        "result"
      ],
      "metadata": {
        "id": "QdnvdQv-AXxG"
      },
      "execution_count": null,
      "outputs": []
    },
    {
      "cell_type": "code",
      "source": [
        "pd.isnull(result)"
      ],
      "metadata": {
        "id": "PGiIWBpaAih2"
      },
      "execution_count": null,
      "outputs": []
    },
    {
      "cell_type": "code",
      "source": [
        "result = pd.read_csv('/content/drive/My Drive/sampledata/ex5.csv', na_values=['NULL'])\n",
        "result"
      ],
      "metadata": {
        "id": "d8pPMLGyAmj1"
      },
      "execution_count": null,
      "outputs": []
    },
    {
      "cell_type": "code",
      "source": [
        "sentinels = {'message': ['foo', 'NA'], 'something': ['two']}\n",
        "\n",
        "pd.read_csv('/content/drive/My Drive/sampledata/ex5.csv', na_values=sentinels)"
      ],
      "metadata": {
        "id": "cBBqVi7OA2xb"
      },
      "execution_count": null,
      "outputs": []
    },
    {
      "cell_type": "markdown",
      "source": [
        "Data Cleaning and Preparation"
      ],
      "metadata": {
        "id": "J8ja3EPyBmJW"
      }
    },
    {
      "cell_type": "markdown",
      "source": [
        "Handling Missing Data"
      ],
      "metadata": {
        "id": "IYpUnkzoBreE"
      }
    },
    {
      "cell_type": "code",
      "source": [
        "import pandas as pd\n",
        "import numpy as np\n",
        "\n",
        "string_data = pd.Series(['aardvark', 'artichoke', np.nan, 'avocado'])\n",
        "string_data"
      ],
      "metadata": {
        "id": "EZY9AJd_Bu-w"
      },
      "execution_count": null,
      "outputs": []
    },
    {
      "cell_type": "code",
      "source": [
        "string_data.isnull()"
      ],
      "metadata": {
        "id": "wYLIGQfnBnzT"
      },
      "execution_count": null,
      "outputs": []
    },
    {
      "cell_type": "code",
      "source": [
        "string_data[0] = None\n",
        "string_data.isnull()"
      ],
      "metadata": {
        "id": "ob48cbsIB8LS"
      },
      "execution_count": null,
      "outputs": []
    },
    {
      "cell_type": "code",
      "source": [
        "from numpy import nan as NA\n",
        "\n",
        "data = pd.Series([1, NA, 3.5, NA, 7])\n",
        "data"
      ],
      "metadata": {
        "id": "pxFwGesjCCfU"
      },
      "execution_count": null,
      "outputs": []
    },
    {
      "cell_type": "code",
      "source": [
        "data.dropna()"
      ],
      "metadata": {
        "id": "nWN8bMw7CIgb"
      },
      "execution_count": null,
      "outputs": []
    },
    {
      "cell_type": "code",
      "source": [
        "data"
      ],
      "metadata": {
        "id": "ieHJNKNgCOTy"
      },
      "execution_count": null,
      "outputs": []
    },
    {
      "cell_type": "code",
      "source": [
        "data[data.notnull()]"
      ],
      "metadata": {
        "id": "oEy9lZi3CP4Q"
      },
      "execution_count": null,
      "outputs": []
    },
    {
      "cell_type": "code",
      "source": [
        "data = pd.DataFrame([[1., 6.5, 3.], [1., NA, NA] , [NA, NA, NA], [NA, 6.5, 3.]])\n",
        "data"
      ],
      "metadata": {
        "id": "NE_QOXkWCUIk"
      },
      "execution_count": null,
      "outputs": []
    },
    {
      "cell_type": "code",
      "source": [
        "cleaned = data.dropna()\n",
        "cleaned"
      ],
      "metadata": {
        "id": "hgTXQWFOCayD"
      },
      "execution_count": null,
      "outputs": []
    },
    {
      "cell_type": "code",
      "source": [
        "data"
      ],
      "metadata": {
        "id": "i9jHgubYCe1-"
      },
      "execution_count": null,
      "outputs": []
    },
    {
      "cell_type": "code",
      "source": [
        "data.dropna(how='all')"
      ],
      "metadata": {
        "id": "3N-rMK7CClwC"
      },
      "execution_count": null,
      "outputs": []
    },
    {
      "cell_type": "markdown",
      "source": [
        "Removing Duplicate"
      ],
      "metadata": {
        "id": "tUeCqdHgCyzT"
      }
    },
    {
      "cell_type": "code",
      "source": [
        "data = pd.DataFrame({'k1': ['one', 'two'] * 3 + ['two'],\n",
        "                     'k2': [1, 1, 2, 3, 3, 4, 4]})\n",
        "data"
      ],
      "metadata": {
        "id": "H2IhgezeCo9F"
      },
      "execution_count": null,
      "outputs": []
    },
    {
      "cell_type": "code",
      "source": [
        "data.duplicated()"
      ],
      "metadata": {
        "id": "zjRcn1B8C8lA"
      },
      "execution_count": null,
      "outputs": []
    },
    {
      "cell_type": "code",
      "source": [
        "data.drop_duplicates()"
      ],
      "metadata": {
        "id": "qWhsSM_6DBK1"
      },
      "execution_count": null,
      "outputs": []
    },
    {
      "cell_type": "markdown",
      "source": [
        "matplotlib"
      ],
      "metadata": {
        "id": "8q7AjErWDVHY"
      }
    },
    {
      "cell_type": "code",
      "source": [
        "import matplotlib.pyplot as plt"
      ],
      "metadata": {
        "id": "xzcgPczHDW2h"
      },
      "execution_count": null,
      "outputs": []
    },
    {
      "cell_type": "code",
      "source": [
        "import numpy as np\n",
        "\n",
        "data = np.arange(10)\n",
        "data"
      ],
      "metadata": {
        "id": "N00owlImDcYG"
      },
      "execution_count": null,
      "outputs": []
    },
    {
      "cell_type": "code",
      "source": [
        "plt.plot(data)"
      ],
      "metadata": {
        "id": "yVBTplzNDf7i"
      },
      "execution_count": null,
      "outputs": []
    },
    {
      "cell_type": "code",
      "source": [
        "plt.close('all')"
      ],
      "metadata": {
        "id": "NqOjG7NeDiXl"
      },
      "execution_count": null,
      "outputs": []
    },
    {
      "cell_type": "code",
      "source": [
        "s = pd.Series(np.random.randn(10).cumsum(), index=np.arange(0, 100, 10))\n",
        "s.plot()"
      ],
      "metadata": {
        "id": "C9NNK86vDo1m"
      },
      "execution_count": null,
      "outputs": []
    },
    {
      "cell_type": "code",
      "source": [
        "df = pd.DataFrame(np.random.rand(6, 4),\n",
        "                  index=['one', 'two', 'three', 'four', 'five', 'six'],\n",
        "                  columns=pd.Index(['A', 'B', 'C', 'D'], name='Genus'))\n",
        "df\n",
        "df.plot.bar()"
      ],
      "metadata": {
        "id": "q8b47bEkEjoa"
      },
      "execution_count": null,
      "outputs": []
    },
    {
      "cell_type": "code",
      "source": [
        "tips = pd.read_csv('/content/drive/My Drive/sampledata/tips.csv')\n",
        "party_counts = pd.crosstab(tips['day'], tips['size'])\n",
        "party_counts\n",
        "# Not many 1- and 6-person parties\n",
        "party_counts = party_counts.loc[:, 2:5]"
      ],
      "metadata": {
        "id": "DKHW9-jrE3my"
      },
      "execution_count": null,
      "outputs": []
    },
    {
      "cell_type": "code",
      "source": [
        "# Normalize to sum to 1\n",
        "party_pcts = party_counts.div(party_counts.sum(1), axis=0)\n",
        "party_pcts\n",
        "party_pcts.plot.bar()"
      ],
      "metadata": {
        "id": "oHRMRle9FaFs"
      },
      "execution_count": null,
      "outputs": []
    },
    {
      "cell_type": "code",
      "source": [
        "import matplotlib.pyplot as plt\n",
        "\n",
        "plt.style.use('seaborn-v0_8-darkgrid')\n",
        "y = (15, 12, 19, 13, 16, 17, 12)\n",
        "x = ['Sun', 'Mon', 'Tue', 'Wed', 'Thu', 'Fri', 'Sat']\n",
        "plt.title('Weekly Sale', color='blue', alpha=0.8)\n",
        "plt.ylabel('Amount', color='m', fontsize=14)\n",
        "plt.xlabel('Weekday', color='g', fontsize=14)\n",
        "plt.yticks(color='r')\n",
        "plt.xticks(rotation='vertical', color='r', fontsize=13)\n",
        "plt.plot(x, y)\n",
        "plt.show()"
      ],
      "metadata": {
        "id": "YeqpflJjGMAi"
      },
      "execution_count": null,
      "outputs": []
    },
    {
      "cell_type": "code",
      "source": [
        "import matplotlib.pyplot as plt\n",
        "plt.style.use('seaborn-v0_8-darkgrid')\n",
        "\n",
        "y = [10, 15, 15, 20, 10]\n",
        "x = [1, 2, 3, 4, 5]\n",
        "plt.plot(x, y, ls='-', c='r', label='Product #1')\n",
        "\n",
        "y = [15, 25, 10, 15, 20]\n",
        "plt.plot(x, y, ls='--', c='g', label=' Product #2')\n",
        "\n",
        "y = [10, 20, 15, 10, 15]\n",
        "plt.plot(x, y, ls=':', c='b', label=' Product #3')\n",
        "\n",
        "plt.legend(loc='best')\n",
        "plt.show()"
      ],
      "metadata": {
        "id": "E_C50dxyGoSI"
      },
      "execution_count": null,
      "outputs": []
    },
    {
      "cell_type": "code",
      "source": [
        "import matplotlib.pyplot as plt\n",
        "import numpy as np\n",
        "\n",
        "plt.style.use('seaborn-v0_8-darkgrid')\n",
        "\n",
        "y = np.random.randint(1, 101, 20)\n",
        "x = np.arange(1, 21)\n",
        "plt.scatter(x, y, color='g', marker='o', s=80)\n",
        "plt.yticks(np.arange(0, 101, 10))\n",
        "plt.xticks(x)\n",
        "plt.show()"
      ],
      "metadata": {
        "id": "32uO77hdG1o8"
      },
      "execution_count": null,
      "outputs": []
    },
    {
      "cell_type": "markdown",
      "source": [
        "**Module 02: Supervised Learning**"
      ],
      "metadata": {
        "id": "LuIYmLBPYvxG"
      }
    },
    {
      "cell_type": "markdown",
      "source": [
        "Linear Regression"
      ],
      "metadata": {
        "id": "DYAiZuKEirM5"
      }
    },
    {
      "cell_type": "code",
      "source": [
        "import matplotlib.pyplot as plt\n",
        "import numpy as np\n",
        "\n",
        "data = [[3, 10],   #คอลัมน์ x, y\n",
        "        [5, 7],\n",
        "        [6, 6],\n",
        "        [7, 4.5],\n",
        "        [9, 3.25]]\n",
        "\n",
        "arr = np.array(data)\n",
        "x = arr[:, 0]\n",
        "y = arr[:, 1]\n",
        "\n",
        "plt.figure(figsize=(4, 3))\n",
        "\n",
        "plt.scatter(x, y, s=50)\n",
        "plt.show()"
      ],
      "metadata": {
        "id": "d_nc11DXiw98"
      },
      "execution_count": null,
      "outputs": []
    },
    {
      "cell_type": "code",
      "source": [
        "from sklearn.linear_model import LinearRegression\n",
        "import numpy as np\n",
        "\n",
        "\n",
        "data = [[2, 6],\n",
        "        [4, 10],\n",
        "        [6, 11],\n",
        "        [8, 14],\n",
        "        [10, 22],\n",
        "        [12, 25]]\n",
        "\n",
        "data = np.array(data)\n",
        "x = data[:, 0].reshape(-1, 1)\n",
        "y = data[:, 1].reshape(-1, 1)\n",
        "\n",
        "model = LinearRegression()\n",
        "model.fit(x, y)\n",
        "\n",
        "y_5 = model.predict([[5]])\n",
        "print('x = 5, y =', y_5[0, 0])\n",
        "\n",
        "y_9 = model.predict([[9]])\n",
        "print('x = 9, y =', y_9[0, 0])\n",
        "\n",
        "y_11 = model.predict([[11]])\n",
        "print('x = 11, y =', y_11[0, 0])\n",
        "\n",
        "print('intercept =', model.intercept_[0])\n",
        "print('coefficient =', model.coef_[0, 0])"
      ],
      "metadata": {
        "id": "oc9u8zM2i52i"
      },
      "execution_count": null,
      "outputs": []
    },
    {
      "cell_type": "code",
      "source": [
        "from sklearn.linear_model import LinearRegression\n",
        "import numpy as np\n",
        "import matplotlib.pyplot as plt\n",
        "\n",
        "x = list(range(5, 61, 5))    #[5, 10, 15, ..., 60]\n",
        "y = [8, 42, 102, 113, 148, 206, 202, 230, 360, 354, 427, 432]\n",
        "\n",
        "plt.scatter(x, y)\n",
        "plt.show()\n",
        "\n",
        "x = np.array(x).reshape(-1, 1)\n",
        "\n",
        "model = LinearRegression()\n",
        "model.fit(x, y)\n",
        "\n",
        "#ทำนายผล นาทีที่ 8, 18, 33 และ 59\n",
        "x_predict = [[8], [18], [33], [59]]\n",
        "y_predict = model.predict(x_predict)\n",
        "\n",
        "#แสดงผลการทำนายทั้งหมด ในแบบเลขทศนิยม 2 ตำแหน่ง\n",
        "for (i, p) in enumerate(x_predict):\n",
        "    cal = '{:.2f}'.format(y_predict[i])\n",
        "    print(f'ทำกิจกรรมนาน {p[0]} นาที เผาผลาญ {cal} แคลอรี')\n",
        "\n",
        "print()"
      ],
      "metadata": {
        "id": "7Y4GmcYijVKi"
      },
      "execution_count": null,
      "outputs": []
    },
    {
      "cell_type": "code",
      "source": [
        "from sklearn.linear_model import LinearRegression\n",
        "import numpy as np\n",
        "import pandas as pd\n",
        "import matplotlib.pyplot as plt\n",
        "\n",
        "df = pd.read_excel(r'/content/drive/My Drive/sampledata/umbrellas_sold_1.xlsx')\n",
        "\n",
        "#with pd.option_context('display.max_rows', 6): display(df)\n",
        "\n",
        "x = df['rainfall_mm']\n",
        "y = df['umbrellas_sold']\n",
        "\n",
        "plt.figure(figsize=(4, 3))\n",
        "plt.scatter(x, y)\n",
        "plt.show()\n",
        "\n",
        "x = np.array(x).reshape(-1, 1)\n",
        "\n",
        "model = LinearRegression()\n",
        "model.fit(x, y)\n",
        "\n",
        "x_predict = [[90], [100], [120]]\n",
        "y_predicted = model.predict(x_predict)\n",
        "\n",
        "print()\n",
        "\n",
        "#แสดงผลการทำนายทั้งหมด ในแบบเลขจำนวนเต็ม (.0f)\n",
        "for (i, p) in enumerate(x_predict):\n",
        "    sale = '{:.0f}'.format(y_predicted[i])\n",
        "    print(f'ปริมาณฝนที่ตก {p[0]} มิลลิเมตร จะขายร่มได้ {sale} อัน')\n"
      ],
      "metadata": {
        "id": "3CPDXMCIjw80"
      },
      "execution_count": null,
      "outputs": []
    },
    {
      "cell_type": "code",
      "source": [
        "import pandas as pd\n",
        "import matplotlib.pyplot as plt\n",
        "from sklearn.linear_model import LinearRegression\n",
        "from sklearn.model_selection import train_test_split\n",
        "\n",
        "df = pd.read_csv('/content/drive/My Drive/sampledata/co2-emission.csv')\n",
        "\n",
        "x1 = df['volume']\n",
        "x2 = df['weight']\n",
        "y = df['co2']\n",
        "\n",
        "x = df[['volume','weight']]\n",
        "\n",
        "x_train, x_test, y_train, y_test = train_test_split(x, y, random_state=0)\n",
        "\n",
        "model = LinearRegression()\n",
        "model.fit(x_train, y_train)\n",
        "\n",
        "#ทำนายการปล่อย CO2 เมื่อ ขนาดเครื่องยนต์: 2300, น้ำหนัก: 1300\n",
        "x_predict = [[2300, 1300]]\n",
        "y_predict = model.predict((x_predict))\n",
        "\n",
        "for (i, x_p) in enumerate(x_predict):\n",
        "    co2 = '{:,.0f}'.format(y_predict[i])\n",
        "    print(f'ขนาดเครื่องยนต์: {x_p[0]}, หนัก: {x_p[1]}, จะปล่อย CO2: {co2}')\n",
        "\n",
        "score = model.score(x_test, y_test)\n",
        "print('R-Squared:', '{:.2f}'.format(score))"
      ],
      "metadata": {
        "id": "5dwsxQNrlLwZ"
      },
      "execution_count": null,
      "outputs": []
    },
    {
      "cell_type": "code",
      "source": [
        "from sklearn.linear_model import LinearRegression\n",
        "from sklearn.preprocessing import PolynomialFeatures\n",
        "import matplotlib.pyplot as plt\n",
        "import numpy as np\n",
        "import pandas as pd\n",
        "\n",
        "df = pd.read_csv(r'/content/drive/My Drive/sampledata/electricity-consumptions.csv')\n",
        "\n",
        "x = df['home_size']\n",
        "y = df['kilowatt_hours_per_month']\n",
        "\n",
        "pf = PolynomialFeatures(degree=3)\n",
        "x = np.array(x).reshape(-1, 1)\n",
        "x_poly= pf.fit_transform(x)\n",
        "\n",
        "model = LinearRegression()\n",
        "model.fit(x_poly, y)\n",
        "\n",
        "#ทำนายผลสำหรับบ้านขนาด 1500 และ 2000\n",
        "x_predict = [[1500], [2000]]\n",
        "y_predict = model.predict(pf.transform(x_predict))\n",
        "\n",
        "for (i, x_p) in enumerate(x_predict):\n",
        "    kw = '{:.2f}'.format(y_predict[i])\n",
        "    print(f'ขนาดบ้าน = {x_p[0]}, จะใช้ไฟประมาณ = {kw}')\n",
        "\n",
        "score = model.score(x_poly, y)\n",
        "print('R-Squared =', '{:.3f}'.format(score))\n",
        "\n",
        "#เนื่องจากเราไม่ได้แบ่งชุด Train/Test\n",
        "#จึงทำนายผลจากข้อมูลทั้งหมดเพื่อวาดกราฟ\n",
        "y_predict_all = model.predict(x_poly)\n",
        "\n",
        "plt.figure(figsize=(4, 3))\n",
        "plt.scatter(x, y, color='b')\n",
        "plt.plot(x, y_predict_all, color='r')\n",
        "plt.show()"
      ],
      "metadata": {
        "id": "GeBAyoWlnc_m"
      },
      "execution_count": null,
      "outputs": []
    },
    {
      "cell_type": "markdown",
      "source": [
        "Linear Regression"
      ],
      "metadata": {
        "id": "-5Rj0EHSoJia"
      }
    },
    {
      "cell_type": "code",
      "source": [
        "from sklearn.linear_model import LogisticRegression\n",
        "\n",
        "model = LogisticRegression()\n",
        "\n",
        "x = [[8, 6], [3, 5], [4, 9], [5, 8], [9, 9]]  #[[x1, x2], ...]\n",
        "y = ['yes', 'no', 'no', 'yes', 'yes']\n",
        "\n",
        "model.fit(x, y)\n",
        "\n",
        "#ทำนายผลเมื่อ x1=4, x2=4, y=? และ x1=5, x2=5, y=?\n",
        "x_predict = [[4, 4], [5, 5]]\n",
        "y_predict = model.predict(x_predict)\n",
        "\n",
        "print('ถ้า x = [4, 4], y =', y_predict[0])\n",
        "print('ถ้า x = [5, 5], y =', y_predict[1])\n",
        "print()\n",
        "print('ความน่าจะเป็น')\n",
        "prob = model.predict_proba(x_predict)\n",
        "print(prob)"
      ],
      "metadata": {
        "id": "3S8fg9D_oLYD"
      },
      "execution_count": null,
      "outputs": []
    },
    {
      "cell_type": "code",
      "source": [
        "import pandas as pd\n",
        "import numpy as np\n",
        "from sklearn.linear_model import LogisticRegression\n",
        "\n",
        "df = pd.read_csv(r'/content/drive/My Drive/sampledata/hours_study.csv')\n",
        "#with pd.option_context('display.max_rows', 6): display(df)\n",
        "\n",
        "x = np.array(df['hours_study']).reshape(-1, 1)\n",
        "y = df['pass']\n",
        "\n",
        "model = LogisticRegression()\n",
        "model.fit(x, y)\n",
        "\n",
        "x_predict = [2.2, 3.3, 4.4]\n",
        "x_predict = np.array(x_predict).reshape(-1, 1)\n",
        "y_predict = model.predict(x_predict)\n",
        "\n",
        "print('Prediction:')\n",
        "for (i, xp) in enumerate(x_predict):\n",
        "    #ถ้าผลลัพธ์เป็น 0 เปลี่ยนเป็น Fail ถ้าเป็น 1 เปลี่ยนเป็น Pass ให้สื่อความเข้าใจได้\n",
        "    r = 'Fail' if y_predict[i] == 0 else 'Pass'\n",
        "    print(f'Study: {xp[0]} hour(s) => {r}')\n",
        "\n",
        "print()"
      ],
      "metadata": {
        "id": "NJR7BpfLph93"
      },
      "execution_count": null,
      "outputs": []
    },
    {
      "cell_type": "code",
      "source": [
        "import pandas as pd\n",
        "from sklearn.linear_model import LogisticRegression\n",
        "from sklearn.preprocessing import StandardScaler\n",
        "\n",
        "df = pd.read_excel(r'/content/drive/My Drive/sampledata/machine-spec.xlsx')\n",
        "with pd.option_context('display.max_rows', 6): display(df)\n",
        "\n",
        "x = df[['machine_age_months', 'operate_hours_per_day']]\n",
        "y = df['machine_meets_spec']\n",
        "\n",
        "scaler = StandardScaler()\n",
        "x = scaler.fit_transform(x)\n",
        "\n",
        "model = LogisticRegression()\n",
        "model.fit(x, y)\n",
        "\n",
        "x_predict = [[30, 6], [40, 8], [50, 5], [60, 3]]\n",
        "#ข้อมูลที่จะทำนายผล ก็ต้องปรับสเกลเช่นเดียวกัน\n",
        "x_predict_sc = scaler.transform(x_predict)\n",
        "y_predict = model.predict(x_predict_sc)\n",
        "\n",
        "print('Prediction:')\n",
        "for (i, xp) in enumerate(x_predict):\n",
        "    #คอลัมน์ผลลัพธ์มีค่าเป็น 0/1 จึงเทียบเป็นสตริงที่เข้าใจได้\n",
        "    mp = 'No' if y_predict[i] == 0 else 'Yes'\n",
        "\n",
        "    t = f'Machine Age: {xp[0]} Month(s), '\n",
        "    t += f'Operate: {xp[1]} Hour(s)/Day '\n",
        "    t += f'=> Meet Spec: {mp}'\n",
        "    print(t)\n",
        "\n",
        "print()"
      ],
      "metadata": {
        "id": "motuhBdUrqf-"
      },
      "execution_count": null,
      "outputs": []
    },
    {
      "cell_type": "markdown",
      "source": [
        "Decision Tree"
      ],
      "metadata": {
        "id": "XSW8xwAswJiG"
      }
    },
    {
      "cell_type": "code",
      "source": [
        "from sklearn.preprocessing import LabelEncoder\n",
        "from sklearn.tree import DecisionTreeClassifier\n",
        "import pandas as pd\n",
        "import numpy as np\n",
        "\n",
        "df = pd.read_excel(r'/content/drive/My Drive/sampledata/animals.xlsx')\n",
        "with pd.option_context('display.max_rows', 10): display(df)\n",
        "\n",
        "#ข้อมูลชุดนี้มีคอลัมน์ดังนี้\n",
        "#'Name', 'Blood_Temperature', 'Give_Birth', 'Can_Fly',\n",
        "#'Live_In_Water', 'Have_Legs', 'Species'\n",
        "#แต่เราไม่ใช้คอลัมน์ 'Name' ใน Tran Model ดังนั้น เพื่อให้ง่ายต่อการอ้างอิง\n",
        "#จึงจะลบคอลัมน์ 'Name' ออกจาก DataFrame\n",
        "df.drop(columns=['Name'], inplace=True)\n",
        "\n",
        "#with pd.option_context('display.max_rows', 10): display(df)\n",
        "\n",
        "#ใช้จัดเก็บอินสแตนซ์ LabelEncoder ของแต่ละคอลัมน์\n",
        "encoders = []\n",
        "\n",
        "#เนื่องจากคอลัมน์ที่จะเข้ารหัสนั้นอยู่ติดกัน#จึงสามารถใช้ลูป for ได้\n",
        "for i in range(0, len(df.columns) - 1):\n",
        "    #สร้างอินสแตนซ์ของ LabelEncoder ที่จะใช้เข้ารหัสของคอลัมน์นั้น\n",
        "    enc = LabelEncoder()\n",
        "\n",
        "    #เข้ารหัสคอลัมน์ในลำดับนั้น\n",
        "    df.iloc[:, i] = enc.fit_transform(df.iloc[:, i])\n",
        "\n",
        "    #เก็บอินสแตนซ์ที่ใช้เข้ารหัสแต่ละคอลัมน์ไว้ในลิสต์\n",
        "    encoders.append(enc)\n",
        "\n",
        "#with pd.option_context('display.max_rows', 6): display(df)\n",
        "\n",
        "x = df.iloc[:, 0:5]\n",
        "y = df['Species']\n",
        "\n",
        "model = DecisionTreeClassifier(criterion='entropy')  #'gini'\n",
        "model.fit(x, y)\n",
        "\n",
        "#ค่าที่จะทำนายผล\n",
        "#Blood_Tem, Give_Birth, Can_Fly, Live_In_Water, Have_Legs\n",
        "x_pred = ['Warm', 'No', 'Yes', 'Sometimes', 'No']\n",
        "\n",
        "#เข้ารหัสแต่ละค่าที่จะทำนายผล\n",
        "#ด้วยอินสแตนซ์เดิมที่เก็บไว้ในลิสต์\n",
        "for i in range(0, len(df.columns) - 1):\n",
        "    x_pred[i] = encoders[i].transform([x_pred[i]])\n",
        "\n",
        "#แปลงเป็นอาร์เรย์ที่มี 5 คอลัมน์ (ตามจำนวน Features)\n",
        "x_pred_a = np.array(x_pred).reshape(-1, 5) #หรือ len(df.columns)-1\n",
        "y_pred = model.predict(x_pred_a)\n",
        "\n",
        "print('Prediction:', y_pred[0])\n",
        "\n",
        "score = model.score(x, y)\n",
        "print('Accuracy:', '{:.2f}'.format(score))"
      ],
      "metadata": {
        "id": "0q37dDciwNsp"
      },
      "execution_count": null,
      "outputs": []
    },
    {
      "cell_type": "markdown",
      "source": [
        "**Module 03: Unsupervised Learning and Preprocessing**"
      ],
      "metadata": {
        "id": "HKoldILiZBre"
      }
    },
    {
      "cell_type": "markdown",
      "source": [
        "K-Means Clustering"
      ],
      "metadata": {
        "id": "GbP-rkNF2EUN"
      }
    },
    {
      "cell_type": "code",
      "source": [
        "from sklearn.cluster import KMeans\n",
        "\n",
        "data = [[2, 2], [4, 6], [3, 5], [7, 2], [6, 6],\n",
        "        [3, 9], [8, 8], [8, 4], [4, 3], [5, 5]]\n",
        "\n",
        "model = KMeans(n_clusters=2, n_init=200, random_state=0)\n",
        "model.fit(data)\n",
        "\n",
        "print(model.labels_)\n",
        "print(model.cluster_centers_)\n",
        "print()\n",
        "\n",
        "pd = model.predict([[7, 7]])     #ทำนายผลของตำแหน่ง (7, 7)\n",
        "print(pd[0])"
      ],
      "metadata": {
        "id": "ZI6ifgqQ2DOf"
      },
      "execution_count": null,
      "outputs": []
    },
    {
      "cell_type": "code",
      "source": [
        "from sklearn.cluster import KMeans\n",
        "import pandas as pd\n",
        "\n",
        "df = pd.read_csv(r'/content/drive/My Drive/sampledata/k-means.csv')\n",
        "with pd.option_context('display.max_rows', 10): display(df)\n",
        "\n",
        "model = KMeans(n_clusters=3, random_state=0)\n",
        "model.fit(df)\n",
        "\n",
        "print(model.labels_)\n",
        "print(model.cluster_centers_)\n",
        "print()\n",
        "\n",
        "pd = model.predict([[30, 40]])     #ทำนายผลของตำแหน่ง (30, 40)\n",
        "print(pd[0])"
      ],
      "metadata": {
        "id": "JZsLcgju3IHE"
      },
      "execution_count": null,
      "outputs": []
    },
    {
      "cell_type": "code",
      "source": [
        "from sklearn.cluster import KMeans\n",
        "import pandas as pd\n",
        "import matplotlib.pyplot as plt\n",
        "\n",
        "df = pd.read_csv(r'/content/drive/My Drive/sampledata/k-means.csv')\n",
        "#with pd.option_context('display.max_rows', 10): display(df)\n",
        "\n",
        "model = KMeans(n_clusters=3, random_state=0)\n",
        "model.fit(df)\n",
        "\n",
        "predict = model.predict(df)\n",
        "\n",
        "c = ['red', 'white', '#ddd']\n",
        "colors = []\n",
        "edge_colors = []\n",
        "\n",
        "for i in predict:\n",
        "    colors.append(c[i])\n",
        "    edge_colors.append('black' if c[i] == 'white' else c[i])\n",
        "\n",
        "centroids = model.cluster_centers_\n",
        "\n",
        "plt.scatter(df['x'], df['y'], c=colors, edgecolor=edge_colors, s=80)\n",
        "plt.scatter(centroids[:, 0], centroids[:, 1], marker='*', s=150)\n",
        "plt.show()\n"
      ],
      "metadata": {
        "id": "PwCxiwY83cbA"
      },
      "execution_count": null,
      "outputs": []
    },
    {
      "cell_type": "code",
      "source": [
        "import pandas as pd\n",
        "from sklearn.cluster import KMeans\n",
        "import matplotlib.pyplot as plt\n",
        "\n",
        "df = pd.read_csv(r'data\\bmx.csv')\n",
        "\n",
        "#เฉพาะคอลัมน์ bmxleg และ bmxwaist\n",
        "#โดยในบางเซลล์ อาจเป็นค่า nan ซึ่งเราควรลบแถวที่มีเซลล์ดังกล่าวออกไป\n",
        "df = df[['bmxleg', 'bmxwaist']].dropna()\n",
        "\n",
        "#with pd.option_context('display.max_rows', 10): display(x)\n",
        "\n",
        "model = KMeans(n_clusters=4)\n",
        "model.fit(df)\n",
        "\n",
        "centroids = model.cluster_centers_\n",
        "print('Centroids:\\n', centroids)\n",
        "\n",
        "#นำข้อมูลแต่ละตำแหน่งไปทำนายว่าอยู่กลุ่มใด\n",
        "#ซึ่งจะได้ผลลัพธ์เป็นอาร์เรย์ของลำดับกลุ่มของข้อมูลแต่ละตำแหน่ง\n",
        "clusters = model.predict(df)\n",
        "\n",
        "#กำหนดสีของแต่ละกลุ่ม (ตามค่า K หรือ n_clusters)\n",
        "cluster_colors = ['red', 'green', 'blue', 'lightblue']\n",
        "\n",
        "#เก็บสีของข้อมูลในแต่ละตำแหน่งตามกลุ่มของมัน\n",
        "data_colors = []\n",
        "for i in clusters:\n",
        "    data_colors.append(cluster_colors[i])\n",
        "\n",
        "plt.figure(figsize=(10, 6))\n",
        "\n",
        "#วาดตำแหน่งข้อมูล โดยให้แกน X เป็นค่า bxmleg และแกน Y เป็น bmxwaist\n",
        "#สีของแต่ละตำแหน่งตามค่าที่เก็บไว้ในลิสต์\n",
        "plt.scatter(df['bmxleg'], df['bmxwaist'], c=data_colors)\n",
        "\n",
        "#วาดตำแหน่ง Centroid\n",
        "plt.scatter(centroids[:, 0], centroids[:, 1],\n",
        "            marker='*', color='black', s=150)   #s = marker size\n",
        "\n",
        "plt.show()"
      ],
      "metadata": {
        "id": "x0MOlc9Q4FLU"
      },
      "execution_count": null,
      "outputs": []
    },
    {
      "cell_type": "markdown",
      "source": [
        "**Module 04 : Representing Data and Engineering Features**"
      ],
      "metadata": {
        "id": "cE30BWEQSbqp"
      }
    },
    {
      "cell_type": "code",
      "execution_count": null,
      "metadata": {
        "id": "yYjzoit0l28e"
      },
      "outputs": [],
      "source": [
        "pip install https://github.com/pandas-profiling/pandas-profiling/archive/master.zip"
      ]
    },
    {
      "cell_type": "code",
      "source": [
        "import numpy as np\n",
        "import pandas as pd\n",
        "from pandas_profiling import ProfileReport"
      ],
      "metadata": {
        "id": "TM1oZjh1mVys"
      },
      "execution_count": null,
      "outputs": []
    },
    {
      "cell_type": "code",
      "source": [
        "from google.colab import drive\n",
        "drive.mount('/content/drive')"
      ],
      "metadata": {
        "id": "x4-N9q0oPNoJ"
      },
      "execution_count": null,
      "outputs": []
    },
    {
      "cell_type": "code",
      "source": [
        "df = pd.read_csv('/content/drive/My Drive/sampledata/titanic.csv', sep = ',')"
      ],
      "metadata": {
        "id": "0p8ie3DWQOI1"
      },
      "execution_count": null,
      "outputs": []
    },
    {
      "cell_type": "code",
      "source": [
        "df.head(10)"
      ],
      "metadata": {
        "id": "_QrA3gH2QsoA"
      },
      "execution_count": null,
      "outputs": []
    },
    {
      "cell_type": "code",
      "source": [
        "df.shape"
      ],
      "metadata": {
        "id": "WfMo1hOgQzLR"
      },
      "execution_count": null,
      "outputs": []
    },
    {
      "cell_type": "code",
      "source": [
        "profile = ProfileReport(df, title=\"Pandas Profiling Report\")\n",
        "profile"
      ],
      "metadata": {
        "id": "gX008rdaQ3Ew"
      },
      "execution_count": null,
      "outputs": []
    },
    {
      "cell_type": "code",
      "source": [
        "print(df.isnull().sum())"
      ],
      "metadata": {
        "id": "koD38uShRG4i"
      },
      "execution_count": null,
      "outputs": []
    },
    {
      "cell_type": "code",
      "source": [
        "df['Age'].mean()"
      ],
      "metadata": {
        "id": "GeeTxyEDRSdj"
      },
      "execution_count": null,
      "outputs": []
    },
    {
      "cell_type": "code",
      "source": [
        "new_df = df.copy()\n",
        "new_df['Age'].fillna(df['Age'].mean(), inplace = True)\n",
        "new_df[['Age']].head(6)"
      ],
      "metadata": {
        "id": "V9yQcNNMRbEx"
      },
      "execution_count": null,
      "outputs": []
    },
    {
      "cell_type": "code",
      "source": [
        "print(new_df.isnull().sum())"
      ],
      "metadata": {
        "id": "ZwIvDGMkRlyX"
      },
      "execution_count": null,
      "outputs": []
    },
    {
      "cell_type": "code",
      "source": [
        "df.isnull().mean()"
      ],
      "metadata": {
        "id": "BGKjX8jYRtT_"
      },
      "execution_count": null,
      "outputs": []
    },
    {
      "cell_type": "code",
      "source": [
        "threshold = 0.5\n",
        "new_df = df[df.columns[df.isnull().mean() < threshold]]\n",
        "new_df.isnull().mean()"
      ],
      "metadata": {
        "id": "Ya0RUel4RxgV"
      },
      "execution_count": null,
      "outputs": []
    },
    {
      "cell_type": "code",
      "source": [
        "threshold = 0.5\n",
        "print(df.shape)\n",
        "new_df = df.loc[df.isnull().mean(axis=1) < threshold]\n",
        "print(new_df.shape)"
      ],
      "metadata": {
        "id": "ABRyjNoESnvG"
      },
      "execution_count": null,
      "outputs": []
    },
    {
      "cell_type": "code",
      "source": [
        "print(df.median(numeric_only=True))\n",
        "new_df = df.fillna(df.median(numeric_only=True))"
      ],
      "metadata": {
        "id": "SyMobmWtSuXb"
      },
      "execution_count": null,
      "outputs": []
    },
    {
      "cell_type": "code",
      "source": [
        "print(new_df.isnull().sum())"
      ],
      "metadata": {
        "id": "gQa_6VN2SyZM"
      },
      "execution_count": null,
      "outputs": []
    },
    {
      "cell_type": "code",
      "source": [
        "new_df[['Age']].head(6)"
      ],
      "metadata": {
        "id": "pBiZyd_ITyhC"
      },
      "execution_count": null,
      "outputs": []
    },
    {
      "cell_type": "code",
      "source": [
        "new_df = df.fillna(0)\n",
        "print(new_df.isnull().sum())"
      ],
      "metadata": {
        "id": "_eXzeuLvT4UI"
      },
      "execution_count": null,
      "outputs": []
    },
    {
      "cell_type": "code",
      "source": [
        "print(df.shape)\n",
        "new_df = df.dropna(how='any')\n",
        "print(new_df.shape)"
      ],
      "metadata": {
        "id": "x6xM09U5T8Wr"
      },
      "execution_count": null,
      "outputs": []
    },
    {
      "cell_type": "code",
      "source": [
        "import seaborn as sns\n",
        "from matplotlib import pyplot as plt"
      ],
      "metadata": {
        "id": "iMU19O5dUK2T"
      },
      "execution_count": null,
      "outputs": []
    },
    {
      "cell_type": "code",
      "source": [
        "fig = plt.figure(figsize=(12,8))\n",
        "sns.boxplot(x=df['Age'], color='lime')\n",
        "plt.xlabel('Age Featured', fontsize=14)\n",
        "plt.show()"
      ],
      "metadata": {
        "id": "0zIyBxFXUQcx"
      },
      "execution_count": null,
      "outputs": []
    },
    {
      "cell_type": "code",
      "source": [
        "df['Age'].describe()"
      ],
      "metadata": {
        "id": "AEO2EKr5UcPt"
      },
      "execution_count": null,
      "outputs": []
    },
    {
      "cell_type": "code",
      "source": [
        "print(df.shape)\n",
        "\n",
        "factor = 3\n",
        "upper_lim = df['Age'].mean () + df['Age'].std () * factor\n",
        "lower_lim = df['Age'].mean () - df['Age'].std () * factor\n",
        "\n",
        "drop_outlier1 = df[(df['Age'] < upper_lim) & (df['Age'] > lower_lim)]\n",
        "\n",
        "print(drop_outlier1.shape)"
      ],
      "metadata": {
        "id": "AXlyGfdvUn9P"
      },
      "execution_count": null,
      "outputs": []
    },
    {
      "cell_type": "code",
      "source": [
        "fig = plt.figure(figsize=(12,8))\n",
        "sns.boxplot(x=drop_outlier1['Age'], color='lime')\n",
        "plt.xlabel('Age Featured', fontsize=14)\n",
        "plt.show()"
      ],
      "metadata": {
        "id": "jPjNS4llVhjc"
      },
      "execution_count": null,
      "outputs": []
    },
    {
      "cell_type": "code",
      "source": [
        "drop_outlier1['Age'].describe()"
      ],
      "metadata": {
        "id": "1cdi17-hVviE"
      },
      "execution_count": null,
      "outputs": []
    },
    {
      "cell_type": "code",
      "source": [
        "print(df.shape)\n",
        "\n",
        "upper_lim = df['Age'].quantile(.95)\n",
        "lower_lim = df['Age'].quantile(.05)\n",
        "\n",
        "drop_outlier2 = df[(df['Age'] < upper_lim) & (df['Age'] > lower_lim)]\n",
        "print(drop_outlier2.shape)"
      ],
      "metadata": {
        "id": "cC7jMWzBV3S8"
      },
      "execution_count": null,
      "outputs": []
    },
    {
      "cell_type": "code",
      "source": [
        "fig = plt.figure(figsize=(12,8))\n",
        "sns.boxplot(x=drop_outlier2['Age'], color='lime')\n",
        "plt.xlabel('Age Featured', fontsize=14)\n",
        "plt.show()"
      ],
      "metadata": {
        "id": "Nhz-4LUxWZT9"
      },
      "execution_count": null,
      "outputs": []
    },
    {
      "cell_type": "code",
      "source": [
        "drop_outlier2['Age'].describe()"
      ],
      "metadata": {
        "id": "l5JTHkbLWbFn"
      },
      "execution_count": null,
      "outputs": []
    },
    {
      "cell_type": "code",
      "source": [
        "labels = ['Children', 'Adult', 'Elder']\n",
        "bins = [0., 20., 40., 80.]\n",
        "\n",
        "drop_outlier2['Age_cat'] = pd.cut(drop_outlier2['Age'], labels=labels, bins=bins, include_lowest=False)"
      ],
      "metadata": {
        "id": "jEP56uJYWhMq"
      },
      "execution_count": null,
      "outputs": []
    },
    {
      "cell_type": "code",
      "source": [
        "drop_outlier2.sample(n=5).head()"
      ],
      "metadata": {
        "id": "YnuvbumHW_1t"
      },
      "execution_count": null,
      "outputs": []
    },
    {
      "cell_type": "code",
      "source": [
        "drop_outlier2['log'] = (drop_outlier2['Age']).transform(np.log)"
      ],
      "metadata": {
        "id": "_So1mYetXDL6"
      },
      "execution_count": null,
      "outputs": []
    },
    {
      "cell_type": "code",
      "source": [
        "drop_outlier2.sample(n=5).head()"
      ],
      "metadata": {
        "id": "OidxU77DXOQN"
      },
      "execution_count": null,
      "outputs": []
    },
    {
      "cell_type": "code",
      "source": [
        "encoded_columns = pd.get_dummies(drop_outlier2['Embarked'])\n",
        "drop_outlier2 = drop_outlier2.join(encoded_columns)\n",
        "\n",
        "drop_outlier2.sample(n=5).head()"
      ],
      "metadata": {
        "id": "YJdKsM5KXh_Y"
      },
      "execution_count": null,
      "outputs": []
    },
    {
      "cell_type": "markdown",
      "source": [
        "**Module 05 : Model Evaluation and Improvement**"
      ],
      "metadata": {
        "id": "b-9L-fJls4Wp"
      }
    },
    {
      "cell_type": "code",
      "source": [
        "#example 5-5\n",
        "\n",
        "import pandas as pd\n",
        "from sklearn.linear_model import LogisticRegression\n",
        "from sklearn.preprocessing import LabelEncoder\n",
        "from sklearn.preprocessing import StandardScaler\n",
        "from sklearn.model_selection import train_test_split\n",
        "from sklearn.metrics import confusion_matrix, classification_report\n",
        "from sklearn.metrics import accuracy_score, precision_score\n",
        "from sklearn.metrics import recall_score, f1_score\n",
        "\n",
        "df = pd.read_excel(r'/content/drive/My Drive/sampledata/customer.xlsx')\n",
        "with pd.option_context('display.max_rows', 8): display(df)\n",
        "\n",
        "#ข้อมูลในคอลัมน์ gender เป็นสตริง ต้องเข้ารหัสเป็นตัวเลข\n",
        "encoder = LabelEncoder()\n",
        "df['gender'] = encoder.fit_transform(df['gender'])\n",
        "\n",
        "features = ['gender', 'age', 'salary']\n",
        "x = df[features]\n",
        "y = df['purchased']\n",
        "\n",
        "x_train, x_test, y_train, y_test = train_test_split(x, y, random_state=0)\n",
        "\n",
        "#scaling after splitting\n",
        "scaler = StandardScaler()\n",
        "x_train = scaler.fit_transform(x_train)\n",
        "x_test = scaler.transform(x_test)\n",
        "\n",
        "model = LogisticRegression()\n",
        "model.fit(x_train, y_train)\n",
        "\n",
        "#ข้อมูลที่จะทำนายผล\n",
        "gender = 'Male'\n",
        "gender_enc = encoder.transform([gender])   #ต้องเข้ารหัส\n",
        "age = 45\n",
        "salary = 45000\n",
        "\n",
        "x_pred = [[gender_enc[0], age, salary]] # Access the single element from the list\n",
        "x_pred_sc = scaler.transform(x_pred)    #ต้องปรับสเกล\n",
        "\n",
        "y_pred = model.predict(x_pred_sc)\n",
        "\n",
        "#คอลัมน์ purchased เก็บค่า 0/1 จึงเทียบเป็นข้อความที่เข้าใจได้\n",
        "print('Prediction:')\n",
        "p = 'Not Purchase' if y_pred[0] == 0 else 'Purchase'\n",
        "print(f'gender: {gender}, age: {age}, salary: {salary} ==>', p)\n",
        "print()\n",
        "\n",
        "### Model Evaluation ####\n",
        "y_pred_test = model.predict(x_test)\n",
        "\n",
        "print('Confusion Matrix:')\n",
        "cfmx = confusion_matrix(y_test, y_pred_test)\n",
        "print(cfmx)\n",
        "print()\n",
        "\n",
        "print('Accuracy:', '{:.2f}'.format(accuracy_score(y_test, y_pred_test)))\n",
        "print('Precision:', '{:.2f}'.format(precision_score(y_test, y_pred_test)))\n",
        "print('Recall:', '{:.2f}'.format(recall_score(y_test, y_pred_test)))\n",
        "print('F1 Score:', '{:.2f}'.format(f1_score(y_test, y_pred_test)))\n",
        "\n",
        "#error_rate = (FP + FN) / Total\n",
        "err = (cfmx[0, 1] + cfmx[1, 0]) / y_test.count()\n",
        "print('Error Rate', '{:.2f}'.format(err))\n",
        "print()\n",
        "\n",
        "#print(classification_report(y_test, y_predicted))"
      ],
      "metadata": {
        "id": "z6JiknXftARD"
      },
      "execution_count": null,
      "outputs": []
    },
    {
      "cell_type": "code",
      "source": [
        "#example 5-7\n",
        "\n",
        "import pandas as pd\n",
        "from sklearn.linear_model import LogisticRegression\n",
        "from sklearn.preprocessing import LabelEncoder\n",
        "from sklearn.preprocessing import StandardScaler\n",
        "from sklearn.model_selection import train_test_split\n",
        "from sklearn.metrics import roc_curve, roc_auc_score, auc\n",
        "import matplotlib.pyplot as plt\n",
        "\n",
        "df = pd.read_excel(r'/content/drive/My Drive/sampledata/customer.xlsx')\n",
        "#with pd.option_context('display.max_rows', 8): display(df)\n",
        "\n",
        "encoder = LabelEncoder()\n",
        "df['gender'] = encoder.fit_transform(df['gender'])\n",
        "\n",
        "features = ['gender', 'age', 'salary']\n",
        "x = df[features]\n",
        "y = df['purchased']\n",
        "\n",
        "x_train, x_test, y_train, y_test = train_test_split(x, y, random_state=0)\n",
        "\n",
        "#scaling after splitting\n",
        "scaler = StandardScaler()\n",
        "x_train = scaler.fit_transform(x_train)\n",
        "x_test = scaler.transform(x_test)\n",
        "\n",
        "model = LogisticRegression()\n",
        "model.fit(x_train, y_train)\n",
        "\n",
        "probs = model.predict_proba(x_test)\n",
        "probs = probs[:, 1]\n",
        "\n",
        "fpr, tpr, threshold = roc_curve(y_test, probs)\n",
        "\n",
        "plt.figure(figsize=(4, 3))\n",
        "plt.plot(fpr, tpr)\n",
        "plt.xlabel('False Positive Rate (FPR)')\n",
        "plt.ylabel('True Positive Rate (TPR)')\n",
        "plt.show()\n",
        "\n",
        "auc_score = auc(fpr, tpr)\n",
        "print('AUC Score:',\n",
        "      '{:.2f}'.format(auc_score))"
      ],
      "metadata": {
        "id": "FabmYkX3vlu0"
      },
      "execution_count": null,
      "outputs": []
    }
  ]
}